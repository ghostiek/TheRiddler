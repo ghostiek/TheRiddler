{
 "cells": [
  {
   "cell_type": "code",
   "execution_count": 1,
   "metadata": {},
   "outputs": [],
   "source": [
    "import numpy as np\n",
    "import matplotlib.pyplot as plt\n",
    "import seaborn as sns"
   ]
  },
  {
   "cell_type": "code",
   "execution_count": 2,
   "metadata": {},
   "outputs": [],
   "source": [
    "class Game:\n",
    "    def __init__(self, rules = None):\n",
    "        self.score = 0\n",
    "        self.score1 = 0\n",
    "        self.score2 = 0\n",
    "        self.strikes = 0\n",
    "        self.outs = 0\n",
    "        self.bases = [1,0,0,0]\n",
    "        self.rules = rules or \\\n",
    "                     {'[1, 1]':2, #Double == 2\n",
    "                      '[1, 2]':1, #Single == 1\n",
    "                      '[1, 3]':1,\n",
    "                      '[1, 4]':1,\n",
    "                      '[1, 5]':5, #Base on error == 5\n",
    "                      '[1, 6]':5, #Base on balls == 5\n",
    "                      '[2, 2]':0, #Strike == 0\n",
    "                      '[2, 3]':0,\n",
    "                      '[2, 4]':0,\n",
    "                      '[2, 5]':0,\n",
    "                      '[2, 6]':-1, #Foulout == -1 (Basically an out)\n",
    "                      '[3, 3]':-1, #Out at first == -1\n",
    "                      '[3, 4]':-1,\n",
    "                      '[3, 5]':-1,\n",
    "                      '[3, 6]':-1,\n",
    "                      '[4, 4]':-0.5, #Flyout == -0.5 (Basically an out, however made it its distinct value between a strike and\n",
    "                                     #an out because runners score from third on those)\n",
    "                      '[4, 5]':-1,\n",
    "                      '[4, 6]':-1,\n",
    "                      '[5, 5]':-2, #Doubleplay == -2 (Basically 2x out)\n",
    "                      '[5, 6]':3, #Triple == 3\n",
    "                      '[6, 6]':4 #Homerun == 4\n",
    "                     } \n",
    "    \n",
    "    def simulate_game(self, n_innings = 9):\n",
    "        for i in range(0, n_innings):\n",
    "            self.simulate_inning()\n",
    "    \n",
    "    def simulate_inning(self):\n",
    "        while self.outs < 2:\n",
    "            self.bat()\n",
    "        self.score1 += self.score\n",
    "        self.switch_sides()\n",
    "        while self.outs < 2:\n",
    "            self.bat()\n",
    "        self.score2 += self.score\n",
    "        \n",
    "    def switch_sides(self):\n",
    "        self.score = 0\n",
    "        self.strikes = 0\n",
    "        self.outs = 0\n",
    "        self.bases = [1,0,0,0]\n",
    "    \n",
    "    def decide_outcome(self, rolls):\n",
    "        return self.rules[str(rolls)]\n",
    "    \n",
    "    def bat(self):\n",
    "        self.bases[0] = 1\n",
    "        rolls = sorted(np.random.randint(1,7,2))\n",
    "        result = self.decide_outcome(rolls)\n",
    "        self.update_game(result)\n",
    "        \n",
    "    def update_game(self, result):\n",
    "        if result == 0:\n",
    "            self.strikes += 1\n",
    "            if self.strikes == 3:\n",
    "                self.strikes = 0\n",
    "                self.outs += 1\n",
    "        elif result == -1:\n",
    "            self.outs += 1\n",
    "        elif result == -0.5:\n",
    "            self.outs += 1\n",
    "            #Scoring on flyouts if runner is on third\n",
    "            if self.bases[3] == 1:\n",
    "                self.score += 1\n",
    "                self.bases[2] = 0\n",
    "        elif result == -2:\n",
    "            self.outs += 2\n",
    "        elif result >= 0 and result <= 4:\n",
    "            for i in reversed(range(len(self.bases))):\n",
    "                if self.bases[i] == 1:\n",
    "                    newindex = i + result\n",
    "                    self.bases[i] = 0\n",
    "                    #If we ran through all bases\n",
    "                    if newindex >= 4:\n",
    "                        self.score += 1\n",
    "                    #If we haven't run through all bases\n",
    "                    else:\n",
    "                        #We assume people on 2nd base score off singles or better\n",
    "                        if i == 2:\n",
    "                            self.score += 1\n",
    "                        #Otherwise we compute positioning as usual\n",
    "                        else:\n",
    "                            self.bases[newindex] = 1\n",
    "        elif result == 5:\n",
    "            #Check if the next following bases are occupied and update accordingly\n",
    "            if self.bases[1] == 1:\n",
    "                if self.bases[2] == 1:\n",
    "                    if self.bases[3] == 1:\n",
    "                        self.score += 1\n",
    "                    self.bases[3] = 1\n",
    "                self.bases[2] = 1\n",
    "            self.bases[1] = 1"
   ]
  },
  {
   "cell_type": "code",
   "execution_count": 3,
   "metadata": {},
   "outputs": [],
   "source": [
    "finalscores = []\n",
    "for i in range(0,10000):\n",
    "    game = Game()\n",
    "    game.simulate_game()\n",
    "    finalscores.append(game.score1 + game.score2)"
   ]
  },
  {
   "cell_type": "code",
   "execution_count": 4,
   "metadata": {},
   "outputs": [
    {
     "data": {
      "image/png": "[encoded data removed]",
      "text/plain": [
       "<Figure size 432x288 with 1 Axes>"
      ]
     },
     "metadata": {
      "needs_background": "light"
     },
     "output_type": "display_data"
    }
   ],
   "source": [
    "plt.hist(finalscores)\n",
    "plt.show()"
   ]
  },
  {
   "cell_type": "code",
   "execution_count": 5,
   "metadata": {},
   "outputs": [
    {
     "name": "stderr",
     "output_type": "stream",
     "text": [
      "C:\\Users\\patrick.tawil\\AppData\\Local\\Continuum\\anaconda3\\lib\\site-packages\\scipy\\stats\\stats.py:1713: FutureWarning: Using a non-tuple sequence for multidimensional indexing is deprecated; use `arr[tuple(seq)]` instead of `arr[seq]`. In the future this will be interpreted as an array index, `arr[np.array(seq)]`, which will result either in an error or a different result.\n",
      "  return np.add.reduce(sorted[indexer] * weights, axis=axis) / sumval\n"
     ]
    },
    {
     "data": {
      "image/png": "[encoded data removed]",
      "text/plain": [
       "<Figure size 432x288 with 1 Axes>"
      ]
     },
     "metadata": {
      "needs_background": "light"
     },
     "output_type": "display_data"
    }
   ],
   "source": [
    "g = sns.distplot(finalscores, bins = 25)\n",
    "g.set_xlabel(\"Number of Points per Game\")\n",
    "g.set_title(\"Distribution of Points Scored\")\n",
    "plt.show()"
   ]
  },
  {
   "cell_type": "code",
   "execution_count": 6,
   "metadata": {},
   "outputs": [
    {
     "data": {
      "text/plain": [
       "13.5239"
      ]
     },
     "execution_count": 6,
     "metadata": {},
     "output_type": "execute_result"
    }
   ],
   "source": [
    "#Average points per game\n",
    "np.mean(finalscores)"
   ]
  },
  {
   "cell_type": "code",
   "execution_count": 7,
   "metadata": {},
   "outputs": [
    {
     "data": {
      "text/plain": [
       "12.0"
      ]
     },
     "execution_count": 7,
     "metadata": {},
     "output_type": "execute_result"
    }
   ],
   "source": [
    "#Median points per game\n",
    "np.median(finalscores)"
   ]
  },
  {
   "cell_type": "code",
   "execution_count": 8,
   "metadata": {},
   "outputs": [
    {
     "name": "stdout",
     "output_type": "stream",
     "text": [
      "Single needs 3.20418 dice outcomes\n",
      "Double needs 0.94731 dice outcomes\n",
      "Triple needs 0.10626000000000001 dice outcomes\n",
      "Homerun needs 0.56574 dice outcomes\n",
      "Walk needs 1.56576 dice outcomes\n",
      "Hit-by-pitch needs 0.17136 dice outcomes\n",
      "Out needs 14.439179999999999 dice outcomes\n"
     ]
    }
   ],
   "source": [
    "#Using this https://sabr.org/research/matchup-probabilities-major-league-baseball\n",
    "print(f\"Single needs {21*0.15258} dice outcomes\")\n",
    "print(f\"Double needs {21*0.04511} dice outcomes\")\n",
    "print(f\"Triple needs {21*0.00506} dice outcomes\")\n",
    "print(f\"Homerun needs {21*0.02694} dice outcomes\")\n",
    "print(f\"Walk needs {21*0.07456} dice outcomes\")\n",
    "print(f\"Hit-by-pitch needs {21*0.00816} dice outcomes\") #Just add to walk\n",
    "print(f\"Out needs {21*0.68758} dice outcomes\")"
   ]
  },
  {
   "cell_type": "code",
   "execution_count": 9,
   "metadata": {},
   "outputs": [],
   "source": [
    "updatedrules =  {'[1, 1]':1, #Single == 1\n",
    "                 '[1, 2]':1,\n",
    "                 '[1, 3]':1,\n",
    "                 '[1, 4]':2, #Double == 2\n",
    "                 '[1, 5]':4, #Homerun, we'll give it 1 even though its about 0.5, we can make a case for triple being included\n",
    "                             #in it because a triple is essentially most likely going to result in points scored too\n",
    "                 '[1, 6]':5, #Walk == 5, we can include hit by pitch too\n",
    "                 '[2, 2]':5,\n",
    "                 '[2, 3]':-1, #14  out possibilities\n",
    "                 '[2, 4]':-1,\n",
    "                 '[2, 5]':-1,\n",
    "                 '[2, 6]':-1, \n",
    "                 '[3, 3]':-1, \n",
    "                 '[3, 4]':-1,\n",
    "                 '[3, 5]':-1,\n",
    "                 '[3, 6]':-1,\n",
    "                 '[4, 4]':-1,\n",
    "                 '[4, 5]':-1,\n",
    "                 '[4, 6]':-1,\n",
    "                 '[5, 5]':-1,\n",
    "                 '[5, 6]':-1,\n",
    "                 '[6, 6]':-1\n",
    "                } "
   ]
  },
  {
   "cell_type": "code",
   "execution_count": 10,
   "metadata": {},
   "outputs": [],
   "source": [
    "finalscores = []\n",
    "for i in range(0,10000):\n",
    "    game = Game(updatedrules)\n",
    "    game.simulate_game()\n",
    "    finalscores.append(game.score1 + game.score2)"
   ]
  },
  {
   "cell_type": "code",
   "execution_count": 11,
   "metadata": {},
   "outputs": [
    {
     "data": {
      "image/png": "[encoded data removed]",
      "text/plain": [
       "<Figure size 432x288 with 1 Axes>"
      ]
     },
     "metadata": {
      "needs_background": "light"
     },
     "output_type": "display_data"
    }
   ],
   "source": [
    "plt.hist(finalscores)\n",
    "plt.show()"
   ]
  },
  {
   "cell_type": "code",
   "execution_count": 12,
   "metadata": {},
   "outputs": [
    {
     "data": {
      "image/png": "[encoded data removed]",
      "text/plain": [
       "<Figure size 432x288 with 1 Axes>"
      ]
     },
     "metadata": {
      "needs_background": "light"
     },
     "output_type": "display_data"
    }
   ],
   "source": [
    "g = sns.distplot(finalscores, bins = 25)\n",
    "g.set_xlabel(\"Number of Points per Game\")\n",
    "g.set_title(\"Distribution of Points Scored\")\n",
    "plt.show()"
   ]
  },
  {
   "cell_type": "code",
   "execution_count": 13,
   "metadata": {},
   "outputs": [
    {
     "data": {
      "text/plain": [
       "6.5751"
      ]
     },
     "execution_count": 13,
     "metadata": {},
     "output_type": "execute_result"
    }
   ],
   "source": [
    "#Average points per game\n",
    "np.mean(finalscores)"
   ]
  },
  {
   "cell_type": "code",
   "execution_count": 14,
   "metadata": {},
   "outputs": [
    {
     "data": {
      "text/plain": [
       "6.0"
      ]
     },
     "execution_count": 14,
     "metadata": {},
     "output_type": "execute_result"
    }
   ],
   "source": [
    "#Median points per game\n",
    "np.median(finalscores)"
   ]
  },
  {
   "cell_type": "code",
   "execution_count": 15,
   "metadata": {},
   "outputs": [],
   "source": [
    "#Much closer to the estimate of 8 points per game found here\n",
    "#https://www.sportingcharts.com/articles/mlb/what-is-the-average-number-of-runs-scored-in-an-mlb-game.aspx\n",
    "#The prob data is from 2013, which was a low 8, so we're not too far off.\n",
    "#I am convinced we would have better results if we either had\n",
    "#1) More reliable probabilities\n",
    "#2) Used exact probabilities instead of a dice roll"
   ]
  }
 ],
 "metadata": {
  "kernelspec": {
   "display_name": "Python 3",
   "language": "python",
   "name": "python3"
  },
  "language_info": {
   "codemirror_mode": {
    "name": "ipython",
    "version": 3
   },
   "file_extension": ".py",
   "mimetype": "text/x-python",
   "name": "python",
   "nbconvert_exporter": "python",
   "pygments_lexer": "ipython3",
   "version": "3.7.1"
  }
 },
 "nbformat": 4,
 "nbformat_minor": 2
}

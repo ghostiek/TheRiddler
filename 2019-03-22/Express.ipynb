{
 "cells": [
  {
   "cell_type": "code",
   "execution_count": 1,
   "metadata": {},
   "outputs": [],
   "source": [
    "import numpy as np\n",
    "import matplotlib.pyplot as plt\n",
    "import seaborn as sns"
   ]
  },
  {
   "cell_type": "code",
   "execution_count": 2,
   "metadata": {},
   "outputs": [],
   "source": [
    "class Game:\n",
    "    def __init__(self):\n",
    "        self.score = 0\n",
    "        self.score1 = 0\n",
    "        self.score2 = 0\n",
    "        self.strikes = 0\n",
    "        self.outs = 0\n",
    "        self.bases = [1,0,0,0]\n",
    "        self.rules = {'[1, 1]':2, #Double == 2\n",
    "                      '[1, 2]':1, #Single == 1\n",
    "                      '[1, 3]':1,\n",
    "                      '[1, 4]':1,\n",
    "                      '[1, 5]':5, #Base on error == 5\n",
    "                      '[1, 6]':5, #Base on balls == 5\n",
    "                      '[2, 2]':0, #Strike == 0\n",
    "                      '[2, 3]':0,\n",
    "                      '[2, 4]':0,\n",
    "                      '[2, 5]':0,\n",
    "                      '[2, 6]':-1, #Foulout == -1 (Basically an out)\n",
    "                      '[3, 3]':-1, #Out at first == -1\n",
    "                      '[3, 4]':-1,\n",
    "                      '[3, 5]':-1,\n",
    "                      '[3, 6]':-1,\n",
    "                      '[4, 4]':-1, #Flyout == -1 (Basically an out)\n",
    "                      '[4, 5]':-1,\n",
    "                      '[4, 6]':-1,\n",
    "                      '[5, 5]':-2, #Doubleplay == -2 (Basically 2x out)\n",
    "                      '[5, 6]':3, #Triple == 3\n",
    "                      '[6, 6]':4 #Homerun == 4\n",
    "                     } \n",
    "    \n",
    "    def simulate_game(self, n_innings = 9):\n",
    "        for i in range(0, n_innings):\n",
    "            self.simulate_inning()\n",
    "    \n",
    "    def simulate_inning(self):\n",
    "        while self.outs < 2:\n",
    "            self.bat()\n",
    "        self.score1 += self.score\n",
    "        self.switch_sides()\n",
    "        while self.outs < 2:\n",
    "            self.bat()\n",
    "        self.score2 += self.score\n",
    "        \n",
    "    def switch_sides(self):\n",
    "        self.score = 0\n",
    "        self.strikes = 0\n",
    "        self.outs = 0\n",
    "        self.bases = [1,0,0,0]\n",
    "    \n",
    "    def decide_outcome(self, rolls):\n",
    "        return self.rules[str(rolls)]\n",
    "    \n",
    "    def bat(self):\n",
    "        self.bases[0] = 1\n",
    "        rolls = sorted(np.random.randint(1,7,2))\n",
    "        result = self.decide_outcome(rolls)\n",
    "        self.update_game(result)\n",
    "        \n",
    "    def update_game(self, result):\n",
    "        if result == 0:\n",
    "            self.strikes += 1\n",
    "            if self.strikes == 3:\n",
    "                self.strikes = 0\n",
    "                self.outs += 1\n",
    "        elif result == -1:\n",
    "            self.outs += 1\n",
    "        elif result == -2:\n",
    "            self.outs += 2\n",
    "        elif result >= 0 and result <= 4:\n",
    "            for i in reversed(range(len(self.bases))):\n",
    "                if self.bases[i] == 1:\n",
    "                    newindex = i + result\n",
    "                    self.bases[i] = 0\n",
    "                    if newindex >= 4:\n",
    "                        self.score += 1\n",
    "                    else:\n",
    "                        self.bases[newindex] = 1\n",
    "        elif result == 5:\n",
    "            #Check if the next following bases are occupied and update accordingly\n",
    "            if self.bases[1] == 1:\n",
    "                if self.bases[2] == 1:\n",
    "                    if self.bases[3] == 1:\n",
    "                        self.score += 1\n",
    "                    self.bases[3] = 1\n",
    "                self.bases[2] = 1\n",
    "            self.bases[1] = 1"
   ]
  },
  {
   "cell_type": "code",
   "execution_count": 3,
   "metadata": {},
   "outputs": [],
   "source": [
    "finalscores = []\n",
    "for i in range(0,10000):\n",
    "    game = Game()\n",
    "    game.simulate_game()\n",
    "    finalscores.append(game.score1 + game.score2)"
   ]
  },
  {
   "cell_type": "code",
   "execution_count": 4,
   "metadata": {},
   "outputs": [
    {
     "data": {
      "image/png": "[encoded data removed]",
      "text/plain": [
       "<Figure size 432x288 with 1 Axes>"
      ]
     },
     "metadata": {
      "needs_background": "light"
     },
     "output_type": "display_data"
    }
   ],
   "source": [
    "plt.hist(finalscores)\n",
    "plt.show()"
   ]
  },
  {
   "cell_type": "code",
   "execution_count": 10,
   "metadata": {},
   "outputs": [
    {
     "data": {
      "image/png": "[encoded data removed]",
      "text/plain": [
       "<Figure size 432x288 with 1 Axes>"
      ]
     },
     "metadata": {
      "needs_background": "light"
     },
     "output_type": "display_data"
    }
   ],
   "source": [
    "g = sns.distplot(finalscores, bins = 25)\n",
    "g.set_xlabel(\"Number of Points per Game\")\n",
    "g.set_title(\"Distribution of Points Scored\")\n",
    "plt.show()"
   ]
  },
  {
   "cell_type": "code",
   "execution_count": 6,
   "metadata": {},
   "outputs": [
    {
     "data": {
      "text/plain": [
       "11.7717"
      ]
     },
     "execution_count": 6,
     "metadata": {},
     "output_type": "execute_result"
    }
   ],
   "source": [
    "#Average points per game\n",
    "np.mean(finalscores)"
   ]
  },
  {
   "cell_type": "code",
   "execution_count": 8,
   "metadata": {},
   "outputs": [
    {
     "data": {
      "text/plain": [
       "10.0"
      ]
     },
     "execution_count": 8,
     "metadata": {},
     "output_type": "execute_result"
    }
   ],
   "source": [
    "#Median points per game\n",
    "np.median(finalscores)"
   ]
  }
 ],
 "metadata": {
  "kernelspec": {
   "display_name": "Python 3",
   "language": "python",
   "name": "python3"
  },
  "language_info": {
   "codemirror_mode": {
    "name": "ipython",
    "version": 3
   },
   "file_extension": ".py",
   "mimetype": "text/x-python",
   "name": "python",
   "nbconvert_exporter": "python",
   "pygments_lexer": "ipython3",
   "version": "3.7.1"
  }
 },
 "nbformat": 4,
 "nbformat_minor": 2
}
